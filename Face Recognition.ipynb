{
 "cells": [
  {
   "cell_type": "code",
   "execution_count": 1,
   "metadata": {},
   "outputs": [],
   "source": [
    "import face_recognition\n",
    "import cv2\n",
    "import os\n",
    "import imutils"
   ]
  },
  {
   "cell_type": "code",
   "execution_count": 2,
   "metadata": {},
   "outputs": [],
   "source": [
    "KNOWN_FACES_DIR = \"E:/Z-Machine Learning/Tutorials/Face Recogniton/Trial Files/Known\"\n",
    "UNKNOWN_FACES_DIR = \"E:/Z-Machine Learning/Tutorials/Face Recogniton/Trial Files/Unknown\"\n",
    "TOLERANCE = 0.6\n",
    "FRAME_THICKNESS = 3\n",
    "FONT_THICKNESS = 2\n",
    "MODEL = \"cnn\""
   ]
  },
  {
   "cell_type": "code",
   "execution_count": 3,
   "metadata": {},
   "outputs": [
    {
     "name": "stdout",
     "output_type": "stream",
     "text": [
      "loading known faces\n"
     ]
    }
   ],
   "source": [
    "print(\"loading known faces\")\n",
    "known_faces = []\n",
    "known_names = []"
   ]
  },
  {
   "cell_type": "code",
   "execution_count": 4,
   "metadata": {},
   "outputs": [
    {
     "name": "stdout",
     "output_type": "stream",
     "text": [
      "rotation\n",
      "0\n",
      "1\n",
      "2\n",
      "3\n",
      "4\n",
      "5\n",
      "6\n",
      "7\n"
     ]
    }
   ],
   "source": [
    "i = 0\n",
    "for name in os.listdir(KNOWN_FACES_DIR):\n",
    "    print(\"rotation\")\n",
    "    for filename in os.listdir(f\"{KNOWN_FACES_DIR}/{name}\"):\n",
    "        image = face_recognition.load_image_file(f\"{KNOWN_FACES_DIR}/{name}/{filename}\")\n",
    "        encoding = face_recognition.face_encodings(image)[0]\n",
    "        print (i)\n",
    "        i = i + 1\n",
    "        known_faces.append(encoding)\n",
    "        known_names.append(name)"
   ]
  },
  {
   "cell_type": "code",
   "execution_count": 7,
   "metadata": {},
   "outputs": [],
   "source": [
    "camera = cv2.VideoCapture(0)\n",
    "\n",
    "while(True):\n",
    "    #print(\"we entered the freaking while loop\")\n",
    "    (ret, image) = camera.read()\n",
    "    \n",
    "    #locations = face_recognition.face_locations(image, model= \"cnn\")\n",
    "    #cnn is more accurate but too slow so we're using hog\n",
    "    locations = face_recognition.face_locations(image, model= \"hog\")\n",
    "    encoding = face_recognition.face_encodings(image,locations)\n",
    "    \n",
    "  \n",
    "   \n",
    "    #cv2.imshow(\"feed\", image)\n",
    "    for face_encoding, face_locations in zip(encoding, locations):\n",
    "        results = face_recognition.compare_faces(known_faces, face_encoding, TOLERANCE)\n",
    "        match = None\n",
    "        if True in results:\n",
    "            match = known_names[results.index(True)]\n",
    "            #print(f\"Match Found: {match}\")\n",
    "        \n",
    "        top_left = (face_locations[3], face_locations[0])\n",
    "        bottom_right = (face_locations[1],face_locations[2])\n",
    "            \n",
    "        color = [0,255,0]\n",
    "        cv2.rectangle(image,top_left,bottom_right,color,FRAME_THICKNESS)\n",
    "            \n",
    "        top_left = (face_locations[3], face_locations[0])\n",
    "        bottom_right = (face_locations[1],face_locations[2]+22)\n",
    "        cv2.rectangle(image, top_left, bottom_right, (0,255,0), 2)\n",
    "        cv2.putText(image,match, (face_locations[3]+10, face_locations[2]+15 ), cv2.FONT_HERSHEY_SIMPLEX, 0.5, (200,200,200), FONT_THICKNESS)\n",
    "            \n",
    "    cv2.imshow(\"feed\", image)\n",
    "    if cv2.waitKey(1) & 0xFF == ord(\"q\"):\n",
    "        camera.release()\n",
    "        cv2.destroyAllWindows()\n",
    "        break\n",
    "    \n",
    "    \n",
    "camera.release()\n",
    "cv2.destroyAllWindows()    "
   ]
  },
  {
   "cell_type": "code",
   "execution_count": null,
   "metadata": {},
   "outputs": [],
   "source": []
  },
  {
   "cell_type": "code",
   "execution_count": null,
   "metadata": {},
   "outputs": [],
   "source": []
  }
 ],
 "metadata": {
  "kernelspec": {
   "display_name": "Python 3",
   "language": "python",
   "name": "python3"
  },
  "language_info": {
   "codemirror_mode": {
    "name": "ipython",
    "version": 3
   },
   "file_extension": ".py",
   "mimetype": "text/x-python",
   "name": "python",
   "nbconvert_exporter": "python",
   "pygments_lexer": "ipython3",
   "version": "3.7.6"
  }
 },
 "nbformat": 4,
 "nbformat_minor": 4
}
